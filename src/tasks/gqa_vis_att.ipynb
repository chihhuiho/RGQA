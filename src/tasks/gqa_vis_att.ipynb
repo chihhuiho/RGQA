{
 "cells": [
  {
   "cell_type": "code",
   "execution_count": 12,
   "metadata": {},
   "outputs": [],
   "source": [
    "import os\n",
    "import json\n",
    "import pickle\n",
    "import collections\n",
    "import random\n",
    "import numpy as np\n",
    "import matplotlib.pyplot as plt\n",
    "from PIL import Image\n",
    "import pickle\n",
    "\n",
    "import torch\n",
    "from tqdm import tqdm\n",
    "import torch.nn as nn\n",
    "import torch.nn.functional as F\n",
    "from torch.utils.data.dataloader import DataLoader\n",
    "from transformers import BertTokenizer"
   ]
  },
  {
   "cell_type": "code",
   "execution_count": 3,
   "metadata": {},
   "outputs": [],
   "source": [
    "with open(\"../../atts/atts.pickle\", 'rb') as f:\n",
    "    atts = pickle.load(f)"
   ]
  },
  {
   "cell_type": "code",
   "execution_count": null,
   "metadata": {},
   "outputs": [],
   "source": [
    "tok = BertTokenizer.from_pretrained('bert-base-uncased')"
   ]
  },
  {
   "cell_type": "code",
   "execution_count": 4,
   "metadata": {},
   "outputs": [],
   "source": [
    "keys = list(atts.keys())"
   ]
  },
  {
   "cell_type": "code",
   "execution_count": 18,
   "metadata": {},
   "outputs": [
    {
     "name": "stdout",
     "output_type": "stream",
     "text": [
      "(10, 16)\n",
      "n44249\n"
     ]
    }
   ],
   "source": [
    "att = atts[keys[5]]\n",
    "v2l = att['v2l']\n",
    "input_id = att['input_id']\n",
    "img_id = att['img_id']\n",
    "v2l = v2l[:10, 1:len(input_id)]\n",
    "print(l2v.shape)\n",
    "print(img_id)"
   ]
  },
  {
   "cell_type": "code",
   "execution_count": 19,
   "metadata": {},
   "outputs": [
    {
     "data": {
      "text/plain": [
       "['is',\n",
       " 'the',\n",
       " 'heavy',\n",
       " 'person',\n",
       " 'to',\n",
       " 'the',\n",
       " 'right',\n",
       " 'or',\n",
       " 'to',\n",
       " 'the',\n",
       " 'left',\n",
       " 'of',\n",
       " 'the',\n",
       " 'woman',\n",
       " '?']"
      ]
     },
     "execution_count": 19,
     "metadata": {},
     "output_type": "execute_result"
    }
   ],
   "source": [
    "tok.convert_ids_to_tokens(input_id)"
   ]
  },
  {
   "cell_type": "code",
   "execution_count": 21,
   "metadata": {},
   "outputs": [
    {
     "data": {
      "text/plain": [
       "<matplotlib.image.AxesImage at 0x7efba3abcb20>"
      ]
     },
     "execution_count": 21,
     "metadata": {},
     "output_type": "execute_result"
    },
    {
     "data": {
      "image/png": "[encoded data removed]",
      "text/plain": [
       "<Figure size 432x288 with 1 Axes>"
      ]
     },
     "metadata": {
      "needs_background": "light"
     },
     "output_type": "display_data"
    }
   ],
   "source": [
    "fig, ax = plt.subplots()\n",
    "ax.imshow(v2l)"
   ]
  },
  {
   "cell_type": "code",
   "execution_count": null,
   "metadata": {},
   "outputs": [],
   "source": [
    "# box functions\n",
    "def xywh_to_xyxy(boxes):\n",
    "    \"\"\"Convert [x y w h] box format to [x1 y1 x2 y2] format.\"\"\"\n",
    "    return np.hstack((boxes[:, 0:2], boxes[:, 0:2] + boxes[:, 2:4] - 1))\n",
    "\n",
    "def show_attn(img_path, box, attn):\n",
    "    \"\"\"\n",
    "    box : [xywh]\n",
    "    attn: 49\n",
    "    \"\"\"\n",
    "    img = imread(img_path)\n",
    "    attn = np.array(attn).reshape(7,7)\n",
    "    x,y,w,h = int(box[0]), int(box[1]), int(box[2]), int(box[3])\n",
    "    roi = img[y:y+h-1, x:x+w-1]\n",
    "    attn = imresize(attn, [h,w])\n",
    "    plt.imshow(roi)\n",
    "    plt.imshow(attn, alpha=0.7)\n",
    "    \n",
    "def show_boxes(img_path, boxes, colors, texts=None, masks=None):\n",
    "    # boxes [[xyxy]]\n",
    "    img = imread(img_path)\n",
    "    plt.imshow(img)\n",
    "    ax = plt.gca()\n",
    "    for k in range(boxes.shape[0]):\n",
    "        box = boxes[k]\n",
    "        xmin, ymin, xmax, ymax = list(box)\n",
    "        coords = (xmin, ymin), xmax - xmin + 1, ymax - ymin + 1\n",
    "        color = colors[k]\n",
    "        ax.add_patch(plt.Rectangle(*coords, fill=False, edgecolor=color, linewidth=2))\n",
    "        if texts is not None:\n",
    "            ax.text(xmin, ymin, texts[k], bbox={'facecolor':color, 'alpha':0.5})\n",
    "    # show mask\n",
    "    if masks is not None:\n",
    "        for k in range(len(masks)):\n",
    "            mask = masks[k]\n",
    "            m = np.zeros( (mask.shape[0], mask.shape[1], 3))\n",
    "            m[:,:,0] = 0; m[:,:,1] = 0; m[:,:,2] = 1.\n",
    "            ax.imshow(np.dstack([m*255, mask*255*0.4]).astype(np.uint8))"
   ]
  }
 ],
 "metadata": {
  "kernelspec": {
   "display_name": "Python 3.8.12 ('base')",
   "language": "python",
   "name": "python3"
  },
  "language_info": {
   "codemirror_mode": {
    "name": "ipython",
    "version": 3
   },
   "file_extension": ".py",
   "mimetype": "text/x-python",
   "name": "python",
   "nbconvert_exporter": "python",
   "pygments_lexer": "ipython3",
   "version": "3.8.12"
  },
  "orig_nbformat": 4,
  "vscode": {
   "interpreter": {
    "hash": "c363708e9f795771f35af8a40c1940b7116e8d8c057b85715e5a77563d9e9ce6"
   }
  }
 },
 "nbformat": 4,
 "nbformat_minor": 2
}
